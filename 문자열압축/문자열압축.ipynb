{
  "nbformat": 4,
  "nbformat_minor": 0,
  "metadata": {
    "colab": {
      "name": "문자열압축.ipynb",
      "provenance": [],
      "collapsed_sections": [],
      "authorship_tag": "ABX9TyMEP3Tl14p2vDq0MzvYIUyU",
      "include_colab_link": true
    },
    "kernelspec": {
      "name": "python3",
      "display_name": "Python 3"
    },
    "language_info": {
      "name": "python"
    }
  },
  "cells": [
    {
      "cell_type": "markdown",
      "metadata": {
        "id": "view-in-github",
        "colab_type": "text"
      },
      "source": [
        "<a href=\"https://colab.research.google.com/github/mooncw/codingtest/blob/main/%EB%AC%B8%EC%9E%90%EC%97%B4%EC%95%95%EC%B6%95/%EB%AC%B8%EC%9E%90%EC%97%B4%EC%95%95%EC%B6%95.ipynb\" target=\"_parent\"><img src=\"https://colab.research.google.com/assets/colab-badge.svg\" alt=\"Open In Colab\"/></a>"
      ]
    },
    {
      "cell_type": "code",
      "execution_count": null,
      "metadata": {
        "id": "aAO6FkR9eaLX"
      },
      "outputs": [],
      "source": [
        "def solution(s):\n",
        "    result = []\n",
        "    if len(s) == 1:\n",
        "        return 1\n",
        "    for length in range(1, len(s)//2 + 1):\n",
        "        lst = [s[i:i+length] for i in range(0, len(s), length)]\n",
        "        check = lst[0]\n",
        "        new = ''\n",
        "        cnt = 1\n",
        "        for i in lst[1:]:\n",
        "            if check == i:\n",
        "                cnt += 1\n",
        "            else:\n",
        "                if cnt != 1:\n",
        "                    new = new + str(cnt) + check\n",
        "                else:\n",
        "                    new = new + check\n",
        "                check = i\n",
        "                cnt = 1\n",
        "        if cnt != 1:\n",
        "            new = new + str(cnt) + check\n",
        "        else:\n",
        "            new = new + check\n",
        "        result += [len(new)]\n",
        "    answer = min(result)\n",
        "    return answer"
      ]
    },
    {
      "cell_type": "code",
      "source": [
        "s\t= \"aabbaccc\"\n",
        "# result = 7"
      ],
      "metadata": {
        "id": "EY7OTo-necO0"
      },
      "execution_count": 2,
      "outputs": []
    },
    {
      "cell_type": "code",
      "source": [
        "s = \"ababcdcdababcdcd\"\n",
        "# result = 9"
      ],
      "metadata": {
        "id": "LZgL1ZdxZUju"
      },
      "execution_count": null,
      "outputs": []
    },
    {
      "cell_type": "code",
      "source": [
        "s = \"abcabcdede\"\n",
        "# result = 8"
      ],
      "metadata": {
        "id": "FvqDvGVNZdUH"
      },
      "execution_count": null,
      "outputs": []
    },
    {
      "cell_type": "code",
      "source": [
        "s = \"abcabcabcabcdededededede\"\n",
        "# result = 14"
      ],
      "metadata": {
        "id": "Qy0HBgyhZh09"
      },
      "execution_count": null,
      "outputs": []
    },
    {
      "cell_type": "code",
      "source": [
        "s = \"xababcdcdababcdcd\"\n",
        "# result = 17"
      ],
      "metadata": {
        "id": "k0IKtBdTZlzh"
      },
      "execution_count": null,
      "outputs": []
    },
    {
      "cell_type": "code",
      "source": [
        "s = \"a\""
      ],
      "metadata": {
        "id": "lIn3xi62gAd-"
      },
      "execution_count": 13,
      "outputs": []
    },
    {
      "cell_type": "code",
      "source": [
        "result = []\n",
        "for length in range(1, len(s)//2 + 1):\n",
        "    lst = [s[i:i+length] for i in range(0, len(s), length)]\n",
        "    # print(lst)\n",
        "    check = lst[0]\n",
        "    new = ''\n",
        "    cnt = 1\n",
        "    for i in lst[1:]:\n",
        "        if check == i:\n",
        "            cnt += 1\n",
        "        else:\n",
        "            if cnt != 1:\n",
        "                new = new + str(cnt) + check\n",
        "            else:\n",
        "                new = new + check\n",
        "            check = i\n",
        "            cnt = 1\n",
        "    if cnt != 1:\n",
        "        new = new + str(cnt) + check\n",
        "    else:\n",
        "        new = new + check\n",
        "    # print(new)\n",
        "    result += [len(new)]\n",
        "min(result)"
      ],
      "metadata": {
        "colab": {
          "base_uri": "https://localhost:8080/",
          "height": 211
        },
        "id": "9kqLlrJBefmk",
        "outputId": "760ee5b1-5963-4aa8-da1e-ec02e349c56e"
      },
      "execution_count": 14,
      "outputs": [
        {
          "output_type": "error",
          "ename": "ValueError",
          "evalue": "ignored",
          "traceback": [
            "\u001b[0;31m---------------------------------------------------------------------------\u001b[0m",
            "\u001b[0;31mValueError\u001b[0m                                Traceback (most recent call last)",
            "\u001b[0;32m<ipython-input-14-72e11688b288>\u001b[0m in \u001b[0;36m<module>\u001b[0;34m\u001b[0m\n\u001b[1;32m     22\u001b[0m     \u001b[0;31m# print(new)\u001b[0m\u001b[0;34m\u001b[0m\u001b[0;34m\u001b[0m\u001b[0;34m\u001b[0m\u001b[0m\n\u001b[1;32m     23\u001b[0m     \u001b[0mresult\u001b[0m \u001b[0;34m+=\u001b[0m \u001b[0;34m[\u001b[0m\u001b[0mlen\u001b[0m\u001b[0;34m(\u001b[0m\u001b[0mnew\u001b[0m\u001b[0;34m)\u001b[0m\u001b[0;34m]\u001b[0m\u001b[0;34m\u001b[0m\u001b[0;34m\u001b[0m\u001b[0m\n\u001b[0;32m---> 24\u001b[0;31m \u001b[0mmin\u001b[0m\u001b[0;34m(\u001b[0m\u001b[0mresult\u001b[0m\u001b[0;34m)\u001b[0m\u001b[0;34m\u001b[0m\u001b[0;34m\u001b[0m\u001b[0m\n\u001b[0m",
            "\u001b[0;31mValueError\u001b[0m: min() arg is an empty sequence"
          ]
        }
      ]
    },
    {
      "cell_type": "code",
      "source": [
        "### 참고한 다른 사람 코드 ###\n",
        "\n",
        "def solution(s):\n",
        "    result=[]\n",
        "    if len(s)==1:\n",
        "        return 1\n",
        "    for i in range(1, (len(s)//2)+1):\n",
        "        b = ''\n",
        "        cnt = 1\n",
        "        tmp=s[:i]\n",
        "\n",
        "        for j in range(i, len(s), i):\n",
        "            if tmp==s[j:i+j]:\n",
        "                cnt+=1\n",
        "            else:\n",
        "                if cnt!=1:\n",
        "                    b = b + str(cnt)+tmp\n",
        "                else:\n",
        "                    b = b + tmp\n",
        "                tmp=s[j:j+i]\n",
        "                cnt = 1\n",
        "        if cnt!=1:\n",
        "            b = b + str(cnt) + tmp\n",
        "        else:\n",
        "            b = b + tmp\n",
        "                \n",
        "        result.append(len(b))\n",
        "    return min(result)"
      ],
      "metadata": {
        "id": "2K-h_1X1YCzg"
      },
      "execution_count": null,
      "outputs": []
    }
  ]
}